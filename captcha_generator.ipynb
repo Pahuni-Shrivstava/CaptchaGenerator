{
 "cells": [
  {
   "cell_type": "code",
   "execution_count": 3,
   "id": "3f47461f",
   "metadata": {},
   "outputs": [],
   "source": [
    "from captcha.image import ImageCaptcha\n",
    "image = ImageCaptcha()\n",
    "data = image.generate('PA3395858568')\n",
    "image.write('PA3395858568' , '1.png')\n"
   ]
  }
 ],
 "metadata": {
  "kernelspec": {
   "display_name": "Python 3",
   "language": "python",
   "name": "python3"
  },
  "language_info": {
   "codemirror_mode": {
    "name": "ipython",
    "version": 3
   },
   "file_extension": ".py",
   "mimetype": "text/x-python",
   "name": "python",
   "nbconvert_exporter": "python",
   "pygments_lexer": "ipython3",
   "version": "3.8.8"
  }
 },
 "nbformat": 4,
 "nbformat_minor": 5
}
